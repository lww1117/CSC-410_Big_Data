{
 "cells": [
  {
   "cell_type": "code",
   "execution_count": null,
   "id": "a195a426",
   "metadata": {},
   "outputs": [],
   "source": [
    "#~/usr/bin/env python\n",
    "\"\"\"\n",
    "The main script for running experiments\n",
    "\"\"\"\n",
    "from data import get_dataset"
   ]
  },
  {
   "cell_type": "code",
   "execution_count": null,
   "id": "7a3af7a5",
   "metadata": {},
   "outputs": [],
   "source": [
    "def main():\n",
    "    dataset_directory = 'data'\n",
    "    dataset = 'spam' #volcanoes #voting\n",
    "    schema, X, y = get_dataset(dataset, dataset_directory)\n",
    "    \n",
    "    pass #add your code here\n",
    "    \n",
    "if __name__ == \"__main__\":\n",
    "    main()"
   ]
  },
  {
   "cell_type": "code",
   "execution_count": null,
   "id": "a5d09033",
   "metadata": {},
   "outputs": [],
   "source": []
  }
 ],
 "metadata": {
  "kernelspec": {
   "display_name": "Python 3 (ipykernel)",
   "language": "python",
   "name": "python3"
  },
  "language_info": {
   "codemirror_mode": {
    "name": "ipython",
    "version": 3
   },
   "file_extension": ".py",
   "mimetype": "text/x-python",
   "name": "python",
   "nbconvert_exporter": "python",
   "pygments_lexer": "ipython3",
   "version": "3.9.7"
  }
 },
 "nbformat": 4,
 "nbformat_minor": 5
}
