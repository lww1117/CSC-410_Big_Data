{
 "cells": [
  {
   "cell_type": "markdown",
   "id": "4eb66eb2",
   "metadata": {},
   "source": [
    "# CSC 410 Assignment 2\n"
   ]
  },
  {
   "cell_type": "code",
   "execution_count": 1,
   "id": "033bac61",
   "metadata": {},
   "outputs": [],
   "source": [
    "#~/usr/bin/env python\n",
    "from data import get_dataset\n",
    "from sklearn.model_selection import cross_val_score,train_test_split\n",
    "from sklearn.svm import SVC\n",
    "from sklearn.metrics import RocCurveDisplay, classification_report, roc_auc_score, confusion_matrix, ConfusionMatrixDisplay\n",
    "from sklearn.naive_bayes import CategoricalNB, GaussianNB\n",
    "from sklearn.ensemble import AdaBoostClassifier\n",
    "import matplotlib.pyplot as plt"
   ]
  },
  {
   "cell_type": "markdown",
   "id": "6c130bf1",
   "metadata": {},
   "source": [
    "### SVM Learner\n",
    "\n",
    "First we load the volcanoes dataset and do a train test split of 70/30."
   ]
  },
  {
   "cell_type": "code",
   "execution_count": 2,
   "id": "77190a74",
   "metadata": {},
   "outputs": [],
   "source": [
    "dataset_directory = 'data'\n",
    "volcanoes_dataset = 'volcanoes'\n",
    "vn_schema, VNX, VNy = get_dataset(volcanoes_dataset, dataset_directory)\n",
    "VNX_train, VNX_test, VNy_train, VNy_test = train_test_split(VNX, VNy, \n",
    "                                                            test_size=0.3)"
   ]
  },
  {
   "cell_type": "markdown",
   "id": "a56d5ebe",
   "metadata": {},
   "source": [
    "Reporting  the  accuracy,  precision,  recall  and  F1  score.  "
   ]
  },
  {
   "cell_type": "code",
   "execution_count": 3,
   "id": "2620b2e8",
   "metadata": {},
   "outputs": [
    {
     "name": "stdout",
     "output_type": "stream",
     "text": [
      "              precision    recall  f1-score   support\n",
      "\n",
      "          -1       0.86      0.96      0.90       435\n",
      "           1       0.90      0.71      0.79       235\n",
      "\n",
      "    accuracy                           0.87       670\n",
      "   macro avg       0.88      0.83      0.85       670\n",
      "weighted avg       0.87      0.87      0.86       670\n",
      "\n"
     ]
    },
    {
     "data": {
      "image/png": "[encoded data removed]",
      "text/plain": [
       "<Figure size 432x288 with 2 Axes>"
      ]
     },
     "metadata": {
      "needs_background": "light"
     },
     "output_type": "display_data"
    }
   ],
   "source": [
    "rbfClf = SVC(probability=True)\n",
    "rbfClf = rbfClf.fit(VNX_train, VNy_train)\n",
    "rbfPredictions = rbfClf.predict(VNX_test)\n",
    "print(classification_report(VNy_test, rbfPredictions))\n",
    "\n",
    "\n",
    "cm = confusion_matrix(VNy_test, rbfPredictions, labels=rbfClf.classes_)\n",
    "disp = ConfusionMatrixDisplay(confusion_matrix=cm, display_labels=rbfClf.classes_)\n",
    "disp.plot()\n",
    "plt.show()"
   ]
  },
  {
   "cell_type": "markdown",
   "id": "1e636301",
   "metadata": {},
   "source": [
    "Is  the  accuracy  score  same  with  the precision?\n",
    "> The accuracy is very close to precision.\n",
    "\n",
    "Why?\n",
    "> Accuracy is determined by $(TP+TN)/(P+N)$, whereas precision is derived from $TP/(TP+FP)$. The fact that those two numbers are the same or atleast similar indicates that the two ratios are similar. The true positives seem to be a large enough proportion as to equal the ratio given by accuracy. In essence the rbf model is as precise as it is accurate."
   ]
  },
  {
   "cell_type": "markdown",
   "id": "62f14430",
   "metadata": {},
   "source": [
    "Plotting the Receiver Operating Characteristic (ROC) curve.\n",
    "\n",
    "What is the area under ROC? "
   ]
  },
  {
   "cell_type": "code",
   "execution_count": 4,
   "id": "fac0fc64",
   "metadata": {},
   "outputs": [
    {
     "data": {
      "image/png": "[encoded data removed]",
      "text/plain": [
       "<Figure size 432x288 with 1 Axes>"
      ]
     },
     "metadata": {
      "needs_background": "light"
     },
     "output_type": "display_data"
    },
    {
     "name": "stdout",
     "output_type": "stream",
     "text": [
      "The AUC score is 0.9355832721936904.\n"
     ]
    }
   ],
   "source": [
    "RocCurveDisplay.from_estimator(\n",
    "    rbfClf, VNX_test, VNy_test)\n",
    "\n",
    "plt.show()\n",
    "rbfAuc = roc_auc_score(VNy_test, rbfClf.predict_proba(VNX_test)[:,1])\n",
    "print(\"The AUC score is %s.\" %(rbfAuc))"
   ]
  },
  {
   "cell_type": "markdown",
   "id": "c7ffda3c",
   "metadata": {},
   "source": [
    "Evaluate the SVM classifiers built with three different kernel functions (radial basis function, \n",
    "polynomial and sigmoid) in terms of the area under ROC."
   ]
  },
  {
   "cell_type": "code",
   "execution_count": 5,
   "id": "e4fa3fb1",
   "metadata": {},
   "outputs": [
    {
     "name": "stdout",
     "output_type": "stream",
     "text": [
      "RBF AUC score = 0.9355832721936904\n",
      "Polynomial AUC score = 0.9115774027879677\n",
      "Sigmoid AUC score = 0.5\n"
     ]
    }
   ],
   "source": [
    "polyClf = SVC(kernel='poly', probability=True)\n",
    "polyClf = polyClf.fit(VNX_train, VNy_train)\n",
    "polyPredictions = polyClf.predict(VNX_test)\n",
    "\n",
    "sigClf = SVC(kernel='sigmoid', gamma='auto',probability=True)\n",
    "sigClf = sigClf.fit(VNX_train, VNy_train)\n",
    "sigPredictions = sigClf.predict(VNX_test)\n",
    "\n",
    "polyAuc = roc_auc_score(VNy_test, polyClf.predict_proba(VNX_test)[:,1])\n",
    "sigAuc = roc_auc_score(VNy_test, sigClf.predict_proba(VNX_test)[:,1])\n",
    "\n",
    "print(\"RBF AUC score = %s\" %rbfAuc)\n",
    "print(\"Polynomial AUC score = %s\" %polyAuc)\n",
    "print(\"Sigmoid AUC score = %s\" %sigAuc)"
   ]
  },
  {
   "cell_type": "markdown",
   "id": "0a5f3f3a",
   "metadata": {},
   "source": [
    "Which one shows the best result?\n",
    ">The rbf function appears to perform the best in terms of AUC score.\n",
    "\n",
    "Why do we use kernels in machine learning?\n",
    ">Using kernels allows us to analyze data that is not easily classified by organizing it into shapes that can be differentiated from one another and therefore can be analyzed."
   ]
  },
  {
   "cell_type": "markdown",
   "id": "761ea341",
   "metadata": {},
   "source": [
    "### Naïve Bayes Learner\n",
    "\n",
    "First we will load the voting and spam datasets."
   ]
  },
  {
   "cell_type": "code",
   "execution_count": 6,
   "id": "51b658cb",
   "metadata": {},
   "outputs": [],
   "source": [
    "dataset_directory = 'data'\n",
    "voting_dataset = 'voting'\n",
    "vt_schema, VTX, VTy = get_dataset(voting_dataset, dataset_directory)\n",
    "\n",
    "dataset_directory = 'data'\n",
    "spam_dataset = 'spam'\n",
    "sp_schema, SX, Sy = get_dataset(spam_dataset, dataset_directory)"
   ]
  },
  {
   "cell_type": "markdown",
   "id": "4ff2e750",
   "metadata": {},
   "source": [
    "For the voting problem, perform five-fold cross validation to obtain training and testing sets for the \n",
    "Categorical Naïve Bayes Classifier.\n",
    "\n",
    "What is the accuracy?"
   ]
  },
  {
   "cell_type": "code",
   "execution_count": 7,
   "id": "b4a3dac9",
   "metadata": {},
   "outputs": [
    {
     "name": "stdout",
     "output_type": "stream",
     "text": [
      "The mean accuracy score is 0.9795454545454547.\n"
     ]
    }
   ],
   "source": [
    "CatNB = CategoricalNB()\n",
    "print(\"The mean accuracy score is %s.\" %(cross_val_score(CatNB, VTX, VTy, scoring='accuracy', cv=5).mean()))"
   ]
  },
  {
   "cell_type": "markdown",
   "id": "5377ee7e",
   "metadata": {},
   "source": [
    "For the spam problem, perform five-fold cross validation to obtain training and testing sets.\n",
    "\n",
    "What is the accuracy of the Gaussian Naïve Bayes Classifier?"
   ]
  },
  {
   "cell_type": "code",
   "execution_count": 8,
   "id": "2afa962a",
   "metadata": {},
   "outputs": [
    {
     "name": "stdout",
     "output_type": "stream",
     "text": [
      "The mean accuracy score when using the Gaussian Naïve Bayes learner is 0.40251055468685815.\n"
     ]
    }
   ],
   "source": [
    "GausNB = GaussianNB()\n",
    "print(\"The mean accuracy score when using the Gaussian Naïve Bayes learner is %s.\" \n",
    "      %(cross_val_score(GausNB, SX, Sy, scoring='accuracy', cv=5).mean()))"
   ]
  },
  {
   "cell_type": "markdown",
   "id": "d6d68fe0",
   "metadata": {},
   "source": [
    " What is the accuracy if we use the AdaBoost ensemble method with Decision Tree as the base classifier? "
   ]
  },
  {
   "cell_type": "code",
   "execution_count": 9,
   "id": "dde62bf3",
   "metadata": {},
   "outputs": [
    {
     "name": "stdout",
     "output_type": "stream",
     "text": [
      "The mean accuracy score when using the AdaBoost ensemble learner is 0.7061385417127852.\n"
     ]
    }
   ],
   "source": [
    "AdaB = AdaBoostClassifier()\n",
    "print(\"The mean accuracy score when using the AdaBoost ensemble learner is %s.\" \n",
    "      %(cross_val_score(AdaB, SX, Sy, scoring='accuracy', cv=5).mean()))"
   ]
  },
  {
   "cell_type": "markdown",
   "id": "7627a9a7",
   "metadata": {},
   "source": [
    "Any difference of the values? \n",
    ">The AdaBoost learner is about 1.75x more accurate than the Gaussian learner for this dataset.\n",
    "\n",
    "What do you think could be the reason?\n",
    ">The Gaussian learner is at a disadvantage because it does not build off of previous folds it simply averages them, whereas the Adaptive boosting ensemble will build off of each test to classify more accurately which will in turn increase its mean accuracy score."
   ]
  }
 ],
 "metadata": {
  "kernelspec": {
   "display_name": "Python 3 (ipykernel)",
   "language": "python",
   "name": "python3"
  },
  "language_info": {
   "codemirror_mode": {
    "name": "ipython",
    "version": 3
   },
   "file_extension": ".py",
   "mimetype": "text/x-python",
   "name": "python",
   "nbconvert_exporter": "python",
   "pygments_lexer": "ipython3",
   "version": "3.9.7"
  }
 },
 "nbformat": 4,
 "nbformat_minor": 5
}
