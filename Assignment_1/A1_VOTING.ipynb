{
 "cells": [
  {
   "cell_type": "code",
   "execution_count": 1,
   "id": "4c086e0f",
   "metadata": {},
   "outputs": [],
   "source": [
    "#~/usr/bin/env python\n",
    "\"\"\"\n",
    "The main script for running experiments\n",
    "\"\"\"\n",
    "from data import get_dataset"
   ]
  },
  {
   "cell_type": "code",
   "execution_count": 5,
   "id": "8b656d73",
   "metadata": {},
   "outputs": [
    {
     "name": "stdout",
     "output_type": "stream",
     "text": [
      "<data.Schema object at 0x000002435122FBE0>\n"
     ]
    }
   ],
   "source": [
    "def main():\n",
    "    dataset_directory = 'data'\n",
    "    dataset = 'voting' \n",
    "    schema, X, y = get_dataset(dataset, dataset_directory)\n",
    "    \n",
    "    print(schema)\n",
    "    \n",
    "if __name__ == \"__main__\":\n",
    "    main()"
   ]
  }
 ],
 "metadata": {
  "kernelspec": {
   "display_name": "Python 3 (ipykernel)",
   "language": "python",
   "name": "python3"
  },
  "language_info": {
   "codemirror_mode": {
    "name": "ipython",
    "version": 3
   },
   "file_extension": ".py",
   "mimetype": "text/x-python",
   "name": "python",
   "nbconvert_exporter": "python",
   "pygments_lexer": "ipython3",
   "version": "3.9.7"
  }
 },
 "nbformat": 4,
 "nbformat_minor": 5
}
