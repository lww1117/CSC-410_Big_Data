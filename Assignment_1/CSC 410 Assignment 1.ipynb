{
 "cells": [
  {
   "cell_type": "markdown",
   "id": "4eb66eb2",
   "metadata": {},
   "source": [
    "# CSC 410 Assignment 1\n"
   ]
  },
  {
   "cell_type": "code",
   "execution_count": 1,
   "id": "033bac61",
   "metadata": {},
   "outputs": [],
   "source": [
    "#~/usr/bin/env python\n",
    "from data import get_dataset\n",
    "from sklearn.linear_model import LogisticRegression\n",
    "import matplotlib.pyplot as plt\n",
    "from sklearn.model_selection import train_test_split\n",
    "from sklearn.tree import DecisionTreeClassifier\n",
    "from sklearn import tree\n",
    "from sklearn.metrics import accuracy_score\n",
    "from sklearn import metrics\n",
    "import numpy as np"
   ]
  },
  {
   "cell_type": "markdown",
   "id": "d6d68fe0",
   "metadata": {},
   "source": [
    "Adding data sets\n",
    "\n",
    "### Spam"
   ]
  },
  {
   "cell_type": "code",
   "execution_count": 2,
   "id": "2afa962a",
   "metadata": {},
   "outputs": [],
   "source": [
    "dataset_directory = 'data'\n",
    "spam_dataset = 'spam'\n",
    "sp_schema, SX, Sy = get_dataset(spam_dataset, dataset_directory)\n",
    "SX_train, SX_test, Sy_train, Sy_test = train_test_split(SX, Sy, test_size=0.2)"
   ]
  },
  {
   "cell_type": "markdown",
   "id": "761ea341",
   "metadata": {},
   "source": [
    "### Voting"
   ]
  },
  {
   "cell_type": "code",
   "execution_count": 4,
   "id": "51b658cb",
   "metadata": {},
   "outputs": [],
   "source": [
    "dataset_directory = 'data'\n",
    "voting_dataset = 'voting'\n",
    "vt_schema, VTX, VTy = get_dataset(voting_dataset, dataset_directory)\n",
    "VTX_train, VTX_test, VTy_train, VTy_test = train_test_split(VTX, VTy, \n",
    "                                                            test_size=0.2)"
   ]
  },
  {
   "cell_type": "markdown",
   "id": "6c130bf1",
   "metadata": {},
   "source": [
    "### Volcanoes"
   ]
  },
  {
   "cell_type": "code",
   "execution_count": 5,
   "id": "77190a74",
   "metadata": {},
   "outputs": [],
   "source": [
    "dataset_directory = 'data'\n",
    "volcanoes_dataset = 'volcanoes'\n",
    "vn_schema, VNX, VNy = get_dataset(volcanoes_dataset, dataset_directory)\n",
    "VNX_train, VNX_test, VNy_train, VNy_test = train_test_split(VNX, VNy, \n",
    "                                                            test_size=0.2)"
   ]
  },
  {
   "cell_type": "markdown",
   "id": "06fe941c",
   "metadata": {},
   "source": [
    "## Decision Tree Learner"
   ]
  },
  {
   "cell_type": "markdown",
   "id": "2f90087b",
   "metadata": {},
   "source": [
    "### Spam\n",
    "\n",
    "#### Gini accurcacy"
   ]
  },
  {
   "cell_type": "code",
   "execution_count": 6,
   "id": "25d1273b",
   "metadata": {},
   "outputs": [
    {
     "name": "stdout",
     "output_type": "stream",
     "text": [
      "0.7988359646775488\n"
     ]
    }
   ],
   "source": [
    "SGiniClf = DecisionTreeClassifier()\n",
    "SGiniClf = SGiniClf.fit(SX_train, Sy_train)\n",
    "SGiniPredictions = SGiniClf.predict(SX_test)\n",
    "print(accuracy_score(Sy_test, SGiniPredictions))"
   ]
  },
  {
   "cell_type": "markdown",
   "id": "0ac5631c",
   "metadata": {},
   "source": [
    "#### Entropy accuracy"
   ]
  },
  {
   "cell_type": "code",
   "execution_count": 7,
   "id": "2d319cbe",
   "metadata": {},
   "outputs": [
    {
     "name": "stdout",
     "output_type": "stream",
     "text": [
      "0.8039202568905539\n"
     ]
    }
   ],
   "source": [
    "SEntClf = DecisionTreeClassifier(criterion='entropy')\n",
    "SEntClf = SEntClf.fit(SX_train, Sy_train)\n",
    "SEntPredictions = SEntClf.predict(SX_test)\n",
    "print(accuracy_score(Sy_test, SEntPredictions))"
   ]
  },
  {
   "cell_type": "markdown",
   "id": "5837da66",
   "metadata": {},
   "source": [
    "#### Accuracy plot"
   ]
  },
  {
   "cell_type": "code",
   "execution_count": 5,
   "id": "36872db9",
   "metadata": {},
   "outputs": [
    {
     "name": "stdout",
     "output_type": "stream",
     "text": [
      "[0.7078538934974579, 0.7078538934974579, 0.7251806261707252, 0.7303318169654803, 0.7344126304522344, 0.7523414503612523, 0.7642493979127643, 0.774083489430024, 0.7950227455177951, 0.8031174739095531]\n",
      "[1, 2, 3, 4, 5, 6, 7, 8, 9, 10]\n"
     ]
    }
   ],
   "source": [
    "y_acc = []\n",
    "x_val = []\n",
    "for i in range(10):\n",
    "    SD = DecisionTreeClassifier(max_depth=i+1)\n",
    "    SD = SD.fit(SX_train, Sy_train)\n",
    "    SDPredictions = SD.predict(SX_test)\n",
    "    y_acc.append(accuracy_score(Sy_test, SDPredictions))\n",
    "    x_val.append(i+1)\n",
    "print(y_acc)\n",
    "print(x_val)"
   ]
  },
  {
   "cell_type": "code",
   "execution_count": 6,
   "id": "0ddb9e55",
   "metadata": {},
   "outputs": [
    {
     "data": {
      "text/plain": [
       "[<matplotlib.lines.Line2D at 0x18aec3afee0>]"
      ]
     },
     "execution_count": 6,
     "metadata": {},
     "output_type": "execute_result"
    },
    {
     "data": {
      "image/png": "[encoded data removed]",
      "text/plain": [
       "<Figure size 432x288 with 1 Axes>"
      ]
     },
     "metadata": {
      "needs_background": "light"
     },
     "output_type": "display_data"
    }
   ],
   "source": [
    "plt.plot(x_val,y_acc)"
   ]
  },
  {
   "cell_type": "markdown",
   "id": "1e4050a9",
   "metadata": {},
   "source": [
    "### Voting\n",
    "\n",
    "#### Gini accuracy"
   ]
  },
  {
   "cell_type": "code",
   "execution_count": 8,
   "id": "2663d55a",
   "metadata": {},
   "outputs": [
    {
     "name": "stdout",
     "output_type": "stream",
     "text": [
      "0.9886363636363636\n"
     ]
    }
   ],
   "source": [
    "VTGiniClf = DecisionTreeClassifier()\n",
    "VTGiniClf = VTGiniClf.fit(VTX_train, VTy_train)\n",
    "VTGiniPredictions = VTGiniClf.predict(VTX_test)\n",
    "print(accuracy_score(VTy_test, VTGiniPredictions))"
   ]
  },
  {
   "cell_type": "markdown",
   "id": "ce39bdfd",
   "metadata": {},
   "source": [
    "#### Entropy accuracy"
   ]
  },
  {
   "cell_type": "code",
   "execution_count": 9,
   "id": "4a5541d2",
   "metadata": {},
   "outputs": [
    {
     "name": "stdout",
     "output_type": "stream",
     "text": [
      "0.9886363636363636\n"
     ]
    }
   ],
   "source": [
    "VTEntClf = DecisionTreeClassifier(criterion='entropy')\n",
    "VTEntClf = VTEntClf.fit(VTX_train, VTy_train)\n",
    "VTEntPredictions = VTEntClf.predict(VTX_test)\n",
    "print(accuracy_score(VTy_test, VTEntPredictions))"
   ]
  },
  {
   "cell_type": "markdown",
   "id": "a5c18e88",
   "metadata": {},
   "source": [
    "#### Depth manipulation"
   ]
  },
  {
   "cell_type": "code",
   "execution_count": 10,
   "id": "8f11ecf9",
   "metadata": {},
   "outputs": [
    {
     "name": "stdout",
     "output_type": "stream",
     "text": [
      "0.9886363636363636\n"
     ]
    }
   ],
   "source": [
    "VTDepthClf = DecisionTreeClassifier(max_depth=1)\n",
    "VTDepthClf = VTDepthClf.fit(VTX_train, VTy_train)\n",
    "VTDepthPredictions = VTDepthClf.predict(VTX_test)\n",
    "print(accuracy_score(VTy_test, VTDepthPredictions))"
   ]
  },
  {
   "cell_type": "markdown",
   "id": "eab7cfa1",
   "metadata": {},
   "source": [
    "#### Tree plot"
   ]
  },
  {
   "cell_type": "code",
   "execution_count": 11,
   "id": "889e5146",
   "metadata": {},
   "outputs": [
    {
     "data": {
      "text/plain": [
       "[Text(0.5, 0.75, 'Repealing-the-Job-Killing-Health-Care-Law-Act <= 2.5\\ngini = 0.498\\nsamples = 352\\nvalue = [188, 164]'),\n",
       " Text(0.25, 0.25, 'gini = 0.024\\nsamples = 164\\nvalue = [2, 162]'),\n",
       " Text(0.75, 0.25, 'gini = 0.021\\nsamples = 188\\nvalue = [186, 2]')]"
      ]
     },
     "execution_count": 11,
     "metadata": {},
     "output_type": "execute_result"
    },
    {
     "data": {
      "image/png": "[encoded data removed]",
      "text/plain": [
       "<Figure size 432x288 with 1 Axes>"
      ]
     },
     "metadata": {
      "needs_background": "light"
     },
     "output_type": "display_data"
    }
   ],
   "source": [
    "tree.plot_tree(VTDepthClf,feature_names=vt_schema.feature_names,fontsize=6)"
   ]
  },
  {
   "cell_type": "markdown",
   "id": "8f53b7cc",
   "metadata": {},
   "source": [
    "### Volcanoes\n",
    "\n",
    "#### Gini accuracy"
   ]
  },
  {
   "cell_type": "code",
   "execution_count": 13,
   "id": "c13e3b0c",
   "metadata": {},
   "outputs": [
    {
     "name": "stdout",
     "output_type": "stream",
     "text": [
      "0.8008948545861297\n"
     ]
    }
   ],
   "source": [
    "VNGiniClf = DecisionTreeClassifier()\n",
    "VNGiniClf = VNGiniClf.fit(VNX_train, VNy_train)\n",
    "VNGiniPredictions = VNGiniClf.predict(VNX_test)\n",
    "print(accuracy_score(VNy_test, VNGiniPredictions))"
   ]
  },
  {
   "cell_type": "markdown",
   "id": "63000e20",
   "metadata": {},
   "source": [
    "#### Entropy accuracy"
   ]
  },
  {
   "cell_type": "code",
   "execution_count": 14,
   "id": "64a197d6",
   "metadata": {},
   "outputs": [
    {
     "name": "stdout",
     "output_type": "stream",
     "text": [
      "0.7829977628635347\n"
     ]
    }
   ],
   "source": [
    "VNEntClf = DecisionTreeClassifier(criterion='entropy')\n",
    "VNEntClf = VNEntClf.fit(VNX_train, VNy_train)\n",
    "VNEntPredictions = VNEntClf.predict(VNX_test)\n",
    "print(accuracy_score(VNy_test, VNEntPredictions))"
   ]
  },
  {
   "cell_type": "markdown",
   "id": "ad2ef36e",
   "metadata": {},
   "source": [
    "#### Train/Test split accuracy"
   ]
  },
  {
   "cell_type": "code",
   "execution_count": 15,
   "id": "948ea1ad",
   "metadata": {},
   "outputs": [
    {
     "name": "stdout",
     "output_type": "stream",
     "text": [
      "80/20:  0.7785234899328859\n",
      "70/30:  0.7791044776119403\n",
      "60/40:  0.7659574468085106\n",
      "50/50:  0.760752688172043\n"
     ]
    }
   ],
   "source": [
    "# 80/20, 70/30, 60/40 and 50/50,\n",
    "V82X_train, V82X_test, V82y_train, V82y_test = train_test_split(VNX, VNy, test_size=0.2)\n",
    "V82Clf = DecisionTreeClassifier()\n",
    "V82Clf = V82Clf.fit(V82X_train, V82y_train)\n",
    "V82Predictions = V82Clf.predict(V82X_test)\n",
    "V82Acc = accuracy_score(V82y_test, V82Predictions)\n",
    "\n",
    "V73X_train, V73X_test, V73y_train, V73y_test = train_test_split(VNX, VNy, test_size=0.3)\n",
    "V73Clf = DecisionTreeClassifier()\n",
    "V73Clf = V73Clf.fit(V73X_train, V73y_train)\n",
    "V73Predictions = V73Clf.predict(V73X_test)\n",
    "V73Acc = accuracy_score(V73y_test, V73Predictions)\n",
    "\n",
    "V64X_train, V64X_test, V64y_train, V64y_test = train_test_split(VNX, VNy, test_size=0.4)\n",
    "V64Clf = DecisionTreeClassifier()\n",
    "V64Clf = V64Clf.fit(V64X_train, V64y_train)\n",
    "V64Predictions = V64Clf.predict(V64X_test)\n",
    "V64Acc = accuracy_score(V64y_test, V64Predictions)\n",
    "\n",
    "V55X_train, V55X_test, V55y_train, V55y_test = train_test_split(VNX, VNy, test_size=0.5)\n",
    "V55Clf = DecisionTreeClassifier()\n",
    "V55Clf = V55Clf.fit(V55X_train, V55y_train)\n",
    "V55Predictions = V55Clf.predict(V55X_test)\n",
    "V55Acc = accuracy_score(V55y_test, V55Predictions)\n",
    "\n",
    "print(\"80/20: \",V82Acc)\n",
    "print(\"70/30: \",V73Acc)\n",
    "print(\"60/40: \",V64Acc)\n",
    "print(\"50/50: \",V55Acc)"
   ]
  },
  {
   "cell_type": "markdown",
   "id": "fcb60e9d",
   "metadata": {},
   "source": [
    "## Linear Regression Learner"
   ]
  },
  {
   "cell_type": "code",
   "execution_count": 16,
   "id": "65e14f2e",
   "metadata": {},
   "outputs": [
    {
     "name": "stdout",
     "output_type": "stream",
     "text": [
      "Spam accuracy score is:  0.6754080813486754\n"
     ]
    }
   ],
   "source": [
    "SLR = LogisticRegression()\n",
    "SLR.fit(SX_train, Sy_train)\n",
    "SPrediction = SLR.predict(SX_test)\n",
    "SAcc = accuracy_score(Sy_test, SPrediction)\n",
    "print(\"Spam accuracy score is: \",SAcc)"
   ]
  },
  {
   "cell_type": "code",
   "execution_count": 17,
   "id": "3312249e",
   "metadata": {},
   "outputs": [
    {
     "name": "stdout",
     "output_type": "stream",
     "text": [
      "Voting accuracy score is:  0.9886363636363636\n"
     ]
    }
   ],
   "source": [
    "VTLR = LogisticRegression()\n",
    "VTLR.fit(VTX_train, VTy_train)\n",
    "VTPrediction = VTLR.predict(VTX_test)\n",
    "VTAcc = accuracy_score(VTy_test, VTPrediction)\n",
    "print(\"Voting accuracy score is: \",VTAcc)"
   ]
  },
  {
   "cell_type": "code",
   "execution_count": 18,
   "id": "3052f26c",
   "metadata": {},
   "outputs": [
    {
     "name": "stdout",
     "output_type": "stream",
     "text": [
      "Volcanoes accuracy score is:  0.8322147651006712\n"
     ]
    },
    {
     "name": "stderr",
     "output_type": "stream",
     "text": [
      "C:\\Users\\lww11\\anaconda3\\lib\\site-packages\\sklearn\\linear_model\\_logistic.py:444: ConvergenceWarning: lbfgs failed to converge (status=1):\n",
      "STOP: TOTAL NO. of ITERATIONS REACHED LIMIT.\n",
      "\n",
      "Increase the number of iterations (max_iter) or scale the data as shown in:\n",
      "    https://scikit-learn.org/stable/modules/preprocessing.html\n",
      "Please also refer to the documentation for alternative solver options:\n",
      "    https://scikit-learn.org/stable/modules/linear_model.html#logistic-regression\n",
      "  n_iter_i = _check_optimize_result(\n"
     ]
    }
   ],
   "source": [
    "VNLR = LogisticRegression()\n",
    "VNLR.fit(VNX_train, VNy_train)\n",
    "VNPrediction = VNLR.predict(VNX_test)\n",
    "VNAcc = accuracy_score(VNy_test, VNPrediction)\n",
    "print(\"Volcanoes accuracy score is: \",VNAcc)"
   ]
  },
  {
   "cell_type": "code",
   "execution_count": null,
   "id": "e321ed6f",
   "metadata": {},
   "outputs": [],
   "source": []
  }
 ],
 "metadata": {
  "kernelspec": {
   "display_name": "Python 3 (ipykernel)",
   "language": "python",
   "name": "python3"
  },
  "language_info": {
   "codemirror_mode": {
    "name": "ipython",
    "version": 3
   },
   "file_extension": ".py",
   "mimetype": "text/x-python",
   "name": "python",
   "nbconvert_exporter": "python",
   "pygments_lexer": "ipython3",
   "version": "3.9.7"
  }
 },
 "nbformat": 4,
 "nbformat_minor": 5
}
